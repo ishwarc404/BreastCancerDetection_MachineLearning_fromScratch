{
 "cells": [
  {
   "cell_type": "code",
   "execution_count": 2,
   "metadata": {},
   "outputs": [
    {
     "name": "stdout",
     "output_type": "stream",
     "text": [
      "Accuracy: 96.65071770334929\n"
     ]
    }
   ],
   "source": [
    "import numpy as np \n",
    "from collections import Counter #for the votes\n",
    "import math\n",
    "import pandas as pd #to load in the dataset\n",
    "import random #to shuffle the data\n",
    "\n",
    "df = pd.read_csv(\"breast_cancer_mode_replaced.csv\")\n",
    "df = df.drop(\"Sample code number\", axis=1)\n",
    "df = df.drop(df.columns[0],axis=1)\n",
    "#converting the entire dataframe to float \n",
    "entire_data = df.astype(int).values.tolist()\n",
    "\n",
    "\n",
    "# def euclideanDist(values, predict): #used to find the euclidean Distance betweeen the predicted value and the given\n",
    "#  d = 0.0 \n",
    "#  for i in range(len(values)-1):\n",
    "#      d += pow((float(values[i])-float(predict[i])),2)\n",
    "#  d = math.sqrt(d)\n",
    "#  return d\n",
    "\n",
    "test=int(0.3*len(entire_data)) #30% test size\n",
    "\n",
    "# #a function to shuffle the data and then split it up\n",
    "# def shuffle(entire_data):\n",
    "#  random.shuffle(entire_data)\n",
    "#  train_data = entire_data[:-test]\n",
    "#  test_data = entire_data[-test:]\n",
    "#  return train_data, test_data\n",
    "\n",
    "\n",
    "\n",
    "# def knn(data, predict, k=4):\n",
    "#     distances = []\n",
    "#     #group as in class and features as in the values\n",
    "#     for group in data:   \n",
    "#         for values in data[group]:     \n",
    "#             euclidean_distance =euclideanDist(values, predict) #defined a function to find the distance\n",
    "#             distances.append([euclidean_distance,group])   #list of lists.\n",
    "#             d=sorted(distances)\n",
    "#     votes = [i[1] for i in d[:k]]    #after the distances we only care about the distances to K\n",
    "#     result = Counter(votes).most_common(1)[0][0] \n",
    "#     return result\n",
    "\n",
    "#shuffle the data, and then split it up:\n",
    "train_data,test_data=shuffle(entire_data)\n",
    "\n",
    "#These are the dictionaries that we are going to populate\n",
    "train_set = {2:[], 4:[]} \n",
    "test_set = {2:[], 4:[]}\n",
    "\n",
    "for i in train_data:                   #Here we populate our dictionaries.\n",
    "    train_set[i[-1]].append(i[:-1])\n",
    "\n",
    "for i in test_data:\n",
    "    test_set[i[-1]].append(i[:-1])\n",
    "\n",
    "right = 0\n",
    "total =len(test_data)\n",
    "for group in test_set:\n",
    "    for data in test_set[group]:\n",
    "        vote = knn(train_set, data, k=3)\n",
    "        if group == vote:       #If the group is equal to the votes we got from out k nearest neighbours.\n",
    "            right += 1\n",
    "        Accuracy= (right/total)*100\n",
    "print('Accuracy:',Accuracy)"
   ]
  },
  {
   "cell_type": "code",
   "execution_count": null,
   "metadata": {},
   "outputs": [],
   "source": []
  },
  {
   "cell_type": "code",
   "execution_count": null,
   "metadata": {},
   "outputs": [],
   "source": []
  }
 ],
 "metadata": {
  "kernelspec": {
   "display_name": "Python 3",
   "language": "python",
   "name": "python3"
  },
  "language_info": {
   "codemirror_mode": {
    "name": "ipython",
    "version": 3
   },
   "file_extension": ".py",
   "mimetype": "text/x-python",
   "name": "python",
   "nbconvert_exporter": "python",
   "pygments_lexer": "ipython3",
   "version": "3.7.3"
  }
 },
 "nbformat": 4,
 "nbformat_minor": 2
}
